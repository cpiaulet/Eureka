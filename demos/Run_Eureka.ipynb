{
 "cells": [
  {
   "cell_type": "markdown",
   "metadata": {},
   "source": [
    "# Run Eureka!"
   ]
  },
  {
   "cell_type": "markdown",
   "metadata": {},
   "source": [
    "This Jupyter Notebook will prepare you to run Eureka! for the first time.\n",
    "\n",
    "It contains the following tasks:\n",
    "\n",
    "```\n",
    "1. Install Eureka!\n",
    "2. Download a directory containing:\n",
    " - Calibrated Images in MJy/sr using NIRCam\n",
    " - Ancillary data files to convert from MJr/sr to Electrons\n",
    " - \"Eureka control files (.ecf)\" for Stage 3 and 4\n",
    " - A run_eureka.py script\n",
    "3. Enter the data directory into the Eureka control file \n",
    "4. Run the run_eureka.py script\n",
    "```"
   ]
  },
  {
   "cell_type": "markdown",
   "metadata": {},
   "source": [
    "## Install Eureka!"
   ]
  },
  {
   "cell_type": "markdown",
   "metadata": {},
   "source": [
    "In order to install Eureka!, open up a terminal window and enter:\n",
    "\n",
    "```\n",
    "pip install eureka-hackathon\n",
    "```\n"
   ]
  },
  {
   "cell_type": "markdown",
   "metadata": {},
   "source": [
    "## Download the Simulated NIRCam Data and Ancillary Data"
   ]
  },
  {
   "cell_type": "markdown",
   "metadata": {},
   "source": [
    "Go on this website TODO ADD LINK and download the directory. It will contain the following structure and files:"
   ]
  },
  {
   "cell_type": "markdown",
   "metadata": {},
   "source": [
    "```\n",
    "- Simulated_JWST_Data/\n",
    " - NIRCam/\n",
    "   - stage2/\n",
    "     - jw00042001001_01101_00002-seg021_nrca5_calints.fits\n",
    "   - ancil/\n",
    "     - jwst_nircam_photom_0064.fits\n",
    "     - jwst_nircam_gain_0056.fits\n",
    "- Run_Directory/\n",
    "  - run_eureka.py\n",
    "  - S3_wasp43b.ecf\n",
    "  - S4_wasp43b.ecf\n",
    "  \n",
    "```"
   ]
  },
  {
   "cell_type": "markdown",
   "metadata": {},
   "source": [
    "### About the Simulated NIRCam Data"
   ]
  },
  {
   "cell_type": "markdown",
   "metadata": {},
   "source": [
    "\n",
    "This file contains simulated NIRCam grism time series data. Here, a WASP-43 b-like planet with artificial spectral features is simulated from the ERS Simulated Spectra Team. The observing mode is as follows:\n",
    "\n",
    "- GRISMR+F322W2 pupil and filter\n",
    "- RAPID readout mode\n",
    "- 19 Groups per integrations\n",
    "- 1287 integrations\n",
    "- 1 Exposure\n",
    "- 4 Output amplifiers\n",
    "\n",
    "The data themselves are divided into “segments,” with each individual segment (seg001, seg002, etc.) containing a subset of the overall dataset. This is how flight data will be delivered. The segments are numbered in their order of observation.\n",
    "\n",
    "For practicing on a smaller file with fewer integrations, use segment 21 (“seg021”). \n",
    "To start off, we are only downloading the last segment which is a smaller file (25MB) with fewer integrations. (The other segments are all ~225MB).\n",
    "\n",
    "We will use Stage 2 Outputs. The files have the suffix \"/*calints.fits\" which contain fully calibrated images (MJy) for each individual integration. This is the one you want if you’re starting with Stage 2 and want to do your own spectral extraction.\n",
    "\n",
    "If you want to learn more about the simulated data, click on this link: https://stsci.app.box.com/s/8r6kqh9m53jkwkff0scmed6zx42g307e/file/804595804746"
   ]
  },
  {
   "cell_type": "markdown",
   "metadata": {},
   "source": [
    "### About the ancillary data"
   ]
  },
  {
   "cell_type": "markdown",
   "metadata": {},
   "source": [
    "In order to convert from MJy/sr to Counts you'll need two files:\n",
    "\n",
    "```\n",
    "- jwst_nircam_photom_0064.fits\n",
    "```\n",
    "This file contains information to convert from brightness units (MJy/sr) to raw units (DN).\n",
    "```\n",
    "- jwst_nircam_gain_0056.fits\n",
    "```\n",
    "This file contains information to convert from raw units (DN) to electrons."
   ]
  },
  {
   "cell_type": "markdown",
   "metadata": {},
   "source": [
    "## Eureka control file (.ecf) for Stage 3"
   ]
  },
  {
   "cell_type": "markdown",
   "metadata": {},
   "source": [
    "Eureka uses a so-called Eureka control file where the user has to specify certain parameters like the numbers of CPU Cores you want to use or the location of the data you want to analyze. \n",
    "\n",
    "We will use Eureka to get from the Stage 2 data to a Stage 3 level. \n",
    "\n",
    "Stage 2 contain fully calibrated images (MJy) for each individual integration and Stage 3 unbinned light curves in Counts for each individual integration.\n",
    "\n",
    "Set the location of your data in the file (S3_wasp43b.ecf) which you can find the the directory you downloaded. "
   ]
  },
  {
   "cell_type": "markdown",
   "metadata": {},
   "source": [
    "```\n",
    "# Project directory\n",
    "topdir      /home/user/Desktop/\n",
    "\n",
    "# Directories relative to project dir\n",
    "inputdir    /Data/Simulated_JWST_Data/NIRCam/Stage2/\n",
    "ancildir    /Data/Simulated_JWST_Data/NIRCam/ancil/\n",
    "```"
   ]
  },
  {
   "cell_type": "markdown",
   "metadata": {},
   "source": [
    "## Run Eureka"
   ]
  },
  {
   "cell_type": "markdown",
   "metadata": {},
   "source": [
    "In the same directory as the Eureka control file you can find a script called run_eureka.py. If you now open up a terminal and type:"
   ]
  },
  {
   "cell_type": "markdown",
   "metadata": {},
   "source": [
    "```\n",
    "python run_eureka.py\n",
    "```"
   ]
  },
  {
   "cell_type": "markdown",
   "metadata": {},
   "source": [
    "Eureka will do the Stage 3 data reduction step. It should just need around 10 seconds to finish this task."
   ]
  },
  {
   "cell_type": "markdown",
   "metadata": {},
   "source": [
    "## Output"
   ]
  },
  {
   "cell_type": "markdown",
   "metadata": {},
   "source": [
    "In the same directory you find the ecf and the run_eureka.py script, you will notice a new directory (the name of the directory contains the time you run the script and will look something like this: S3_2021-06-09_05-10-55_wasp43b).\n",
    "\n",
    "It will contain the following files:\n",
    "\n",
    "```\n",
    "- ./S3_wasp43b.log : a log file\n",
    "- ./S3_wasp43b_Save.dat : Data which was saved for Stage 4\n",
    "- figs/\n",
    "  -  Here you will find several dignostic figures saved during Stage 3\n",
    "```"
   ]
  },
  {
   "cell_type": "code",
   "execution_count": null,
   "metadata": {},
   "outputs": [],
   "source": []
  }
 ],
 "metadata": {
  "kernelspec": {
   "display_name": "Python 3",
   "language": "python",
   "name": "python3"
  },
  "language_info": {
   "codemirror_mode": {
    "name": "ipython",
    "version": 3
   },
   "file_extension": ".py",
   "mimetype": "text/x-python",
   "name": "python",
   "nbconvert_exporter": "python",
   "pygments_lexer": "ipython3",
   "version": "3.7.6"
  }
 },
 "nbformat": 4,
 "nbformat_minor": 4
}
